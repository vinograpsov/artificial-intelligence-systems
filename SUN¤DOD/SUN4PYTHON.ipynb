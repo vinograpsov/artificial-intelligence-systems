{
 "cells": [
  {
   "cell_type": "code",
   "execution_count": 51,
   "id": "8ce8c763-6e91-4531-9a89-bc9fa60015e9",
   "metadata": {},
   "outputs": [],
   "source": [
    "import numpy as np\n",
    "import matplotlib.pyplot as plt \n",
    "import math"
   ]
  },
  {
   "cell_type": "code",
   "execution_count": 52,
   "id": "351ebdd1-fdd2-44c8-bd53-4f3dfa037d6b",
   "metadata": {},
   "outputs": [],
   "source": [
    "class Izkiewicz:\n",
    "    def __init__ (self,a,b,c,d,vpeak,t,tau):\n",
    "        self.a = a\n",
    "        self.b = b \n",
    "        self.c = c\n",
    "        self.d = d\n",
    "        self.vpeak = vpeak\n",
    "        self.t = t\n",
    "        self.tau = tau\n",
    "        self.v_arr = np.array([])\n",
    "        self.u_arr = np.array([])\n",
    "        \n",
    "    def __v_current(self,v_last,u_last,I):\n",
    "        v = v_last + self.tau * ((0.04 * v_last + 5)* v_last + 140 - u_last + I)\n",
    "        if v >= self.vpeak:\n",
    "            return self.c\n",
    "        else:\n",
    "            return v\n",
    "        \n",
    "    def __u_current(self,v_curr,u_last):\n",
    "        u = u_last + self.tau * self.a *(self.b * v_curr - u_last)\n",
    "        if v_curr >= self.vpeak:\n",
    "            return self.d + u\n",
    "        else:\n",
    "            return u \n",
    "        \n",
    "    def make_izk(self,I_arr,v_start,u_start):\n",
    "        self.v_arr = np.array([])\n",
    "        self.u_arr = np.array([])\n",
    "        self.v_arr = np.append(self.v_arr,v_start)\n",
    "        self.u_arr = np.append(self.u_arr,u_start)\n",
    "        \n",
    "        for i in range(1,len(I_arr)):\n",
    "            self.v_arr = np.append(self.v_arr,self.__v_current(self.v_arr[i-1],self.u_arr[i-1],I_arr[i]))\n",
    "            self.u_arr = np.append(self.u_arr,self.__u_current(self.v_arr[i],self.u_arr[i-1]))\n",
    "            \n",
    "        return self.v_arr\n",
    "    \n",
    "    \n",
    "    def show(self,v_to_show):\n",
    "        plt.plot(v_to_show)\n",
    "        plt.show()\n",
    "        "
   ]
  },
  {
   "cell_type": "code",
   "execution_count": 74,
   "id": "c710917b-296c-4317-ad7f-26c137d38327",
   "metadata": {},
   "outputs": [],
   "source": [
    "class HODGKIN_HUXLEY:\n",
    "    def __init__ (self,n,m,h,v,vk,vna,vl,gk,gna,gl,cm,dt):\n",
    "        self.n =n\n",
    "        self.m =m\n",
    "        self.h =h\n",
    "        self.v_rest =v\n",
    "        self.vk =vk\n",
    "        self.vna =vna\n",
    "        self.vl =vl\n",
    "        self.gk =gk\n",
    "        self.gna =gna\n",
    "        self.gl =gl\n",
    "        self.cm = cm \n",
    "        self.dt=dt\n",
    "        \n",
    "\n",
    "    def __count_alfa_n(self,v):\n",
    "        if v!=10:\n",
    "            return 0.01*(-v+10)/(np.exp((-v+10)/10) - 1)\n",
    "        else:\n",
    "            return 0.01\n",
    "    def __count_alfa_m(self,v):\n",
    "        if v!=25:\n",
    "            return  0.1*(-v+25)/(np.exp((-v+25)/10) - 1 )\n",
    "        else:\n",
    "            return 1\n",
    "    def __count_alfa_h(self,v):\n",
    "        return 0.07*np.exp(-v/20)\n",
    "    \n",
    "    def __count_beta_n(self,v):\n",
    "        return 0.125*np.exp(-v/80)\n",
    "    \n",
    "    def __count_beta_m(self,v):\n",
    "        return 4*np.exp(-v/18)\n",
    "    \n",
    "    def __count_beta_h(self,v):\n",
    "        return 1/(np.exp((-v+30)/10)+1)\n",
    "    \n",
    "    def __count_n(self,n_last,v,step):\n",
    "        return (self.__count_alfa_n(v)*(1-n_last) - self.__count_beta_n(v)*n_last)*step+n_last\n",
    "        \n",
    "            \n",
    "    def count_v(self,v,I_s):\n",
    "        v[0] = self.v_rest\n",
    "        for i in range(1,len(I_s)):\n",
    "            self.m+=(self.__count_alfa_m(v[i-1])*(1-self.m) - self.__count_beta_m(v[i-1])*self.m)*self.dt\n",
    "            self.n+=(self.__count_alfa_n(v[i-1])*(1-self.n) - self.__count_beta_n(v[i-1])*self.n)*self.dt\n",
    "            self.h+=(self.__count_alfa_h(v[i-1])*(1-self.h) - self.__count_beta_h(v[i-1])*self.h)*self.dt\n",
    "            dv=(1./self.cm)*(I_s[i-1] - self.gna*self.m**3*self.h*(v[i-1]-self.vna) - self.gk*self.n**4*(v[i-1]-self.vk) - self.gl*(v[i-1]-self.vl))*self.dt\n",
    "            v[i]=v[i-1]+dv\n",
    "    \n",
    "        return v\n",
    "    \n",
    "    def show(self,v_to_show):\n",
    "        plt.plot(v_to_show)\n",
    "        plt.show()\n",
    "            "
   ]
  },
  {
   "cell_type": "code",
   "execution_count": 75,
   "id": "770cb314-fbcf-47e4-ac57-c98cccb7c20a",
   "metadata": {},
   "outputs": [],
   "source": [
    "izk = Izkiewicz(0.02,0.2,-65,8,30,1000,0.1)\n",
    "\n",
    "I_arr = np.zeros(1000)\n",
    "I_arr[500:510] = 50\n",
    "I_arr[700:710] = 50\n",
    "temp = izk.make_izk(I_arr,-70,-20)\n"
   ]
  },
  {
   "cell_type": "code",
   "execution_count": 76,
   "id": "54ea970a-0ed4-48d0-a59b-ccea3e0dd781",
   "metadata": {},
   "outputs": [
    {
     "data": {
      "image/png": "[encoded data removed]",
      "text/plain": [
       "<Figure size 432x288 with 1 Axes>"
      ]
     },
     "metadata": {
      "needs_background": "light"
     },
     "output_type": "display_data"
    }
   ],
   "source": [
    "izk.show(temp)"
   ]
  },
  {
   "cell_type": "code",
   "execution_count": 77,
   "id": "80e32bad-01d0-4c36-bc33-f53511c31104",
   "metadata": {},
   "outputs": [],
   "source": [
    "hux = HODGKIN_HUXLEY(0.316,0,0.607,0,-12,120,10.6,36,120,0.3,1,0.025)"
   ]
  },
  {
   "cell_type": "code",
   "execution_count": 81,
   "id": "6ef7934f-3464-49b7-83fd-7673fa1a9ede",
   "metadata": {},
   "outputs": [],
   "source": [
    "dt= 0.025\n",
    "time=np.arange(0,500,dt)\n",
    "v=np.zeros(len(time))\n",
    "\n",
    "v_rest=0\n",
    "v[0]=v_rest\n",
    "\n",
    "I_s=np.zeros(len(time))\n",
    "I_s[1000:2000]=5\n",
    "I_s[7000:9000]=10\n",
    "I_s[13000:17000]=40"
   ]
  },
  {
   "cell_type": "code",
   "execution_count": 82,
   "id": "cb0426c4-c47a-4dac-9355-1001e118d924",
   "metadata": {},
   "outputs": [],
   "source": [
    "tempHux = hux.count_v(v,I_s)"
   ]
  },
  {
   "cell_type": "code",
   "execution_count": 83,
   "id": "6ae25af5-b2ca-4a0c-9e9e-2b100ad948b2",
   "metadata": {},
   "outputs": [
    {
     "data": {
      "image/png": "[encoded data removed]",
      "text/plain": [
       "<Figure size 432x288 with 1 Axes>"
      ]
     },
     "metadata": {
      "needs_background": "light"
     },
     "output_type": "display_data"
    }
   ],
   "source": [
    "hux.show(tempHux)"
   ]
  },
  {
   "cell_type": "code",
   "execution_count": null,
   "id": "9f396d0c-1ef2-4c82-9089-233da8b07397",
   "metadata": {},
   "outputs": [],
   "source": []
  },
  {
   "cell_type": "code",
   "execution_count": null,
   "id": "14dc1c7f-1c66-433d-af7a-1bf82253c865",
   "metadata": {},
   "outputs": [],
   "source": []
  }
 ],
 "metadata": {
  "kernelspec": {
   "display_name": "Python 3 (ipykernel)",
   "language": "python",
   "name": "python3"
  },
  "language_info": {
   "codemirror_mode": {
    "name": "ipython",
    "version": 3
   },
   "file_extension": ".py",
   "mimetype": "text/x-python",
   "name": "python",
   "nbconvert_exporter": "python",
   "pygments_lexer": "ipython3",
   "version": "3.10.0"
  }
 },
 "nbformat": 4,
 "nbformat_minor": 5
}
